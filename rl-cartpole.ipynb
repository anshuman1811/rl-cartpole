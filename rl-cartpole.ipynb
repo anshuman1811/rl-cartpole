{
 "cells": [
  {
   "cell_type": "code",
   "execution_count": 24,
   "metadata": {},
   "outputs": [],
   "source": [
    "import gym\n",
    "import numpy as np\n",
    "import torch\n",
    "import os\n",
    "import random\n",
    "from collections import deque\n",
    "import matplotlib.pyplot as plt\n",
    "\n",
    "from dqn_agent import Agent"
   ]
  },
  {
   "cell_type": "code",
   "execution_count": 26,
   "metadata": {},
   "outputs": [
    {
     "data": {
      "text/plain": [
       "array([-0.03068656, -0.02822661,  0.04020655,  0.00971028])"
      ]
     },
     "execution_count": 26,
     "metadata": {},
     "output_type": "execute_result"
    }
   ],
   "source": [
    "env = gym.make('CartPole-v0')\n",
    "env.reset()"
   ]
  },
  {
   "cell_type": "code",
   "execution_count": 14,
   "metadata": {},
   "outputs": [
    {
     "name": "stdout",
     "output_type": "stream",
     "text": [
      "Number of actions: 2\n",
      "Observation space:  Box(4,)\n",
      "States look like: [-0.04882882 -0.00225633  0.03687457  0.0010926 ]\n",
      "States have length: 4\n"
     ]
    }
   ],
   "source": [
    "# number of actions\n",
    "action_size = env.action_space.n\n",
    "print('Number of actions:', action_size)\n",
    "\n",
    "# examine the state space \n",
    "print('Observation space: ', env.observation_space)\n",
    "state_size = len(env.state)\n",
    "print('States look like:', env.state)\n",
    "print('States have length:', state_size)"
   ]
  },
  {
   "cell_type": "code",
   "execution_count": 15,
   "metadata": {},
   "outputs": [
    {
     "name": "stdout",
     "output_type": "stream",
     "text": [
      "cpu\n"
     ]
    }
   ],
   "source": [
    "device = torch.device(\"cuda:0\" if torch.cuda.is_available() else \"cpu\")\n",
    "print(device)"
   ]
  },
  {
   "cell_type": "code",
   "execution_count": 16,
   "metadata": {},
   "outputs": [],
   "source": [
    "def trainAgent(agent, n_episodes=2000, timeout=1000, eps_start=1.0, eps_end=0.01, eps_decay=0.995, score_window_size=100, solution_score=195.0):\n",
    "    print('\\nTraining agent ')\n",
    "    scores = []                        # list containing scores from each episode\n",
    "    scores_window = deque(maxlen=score_window_size)  # last 'score_window_size' scores for candidate solution\n",
    "    eps = eps_start                    # initialize epsilon\n",
    "    \n",
    "    for episode in range(n_episodes):\n",
    "        state = env.reset()            # get the current state\n",
    "        score = 0\n",
    "        for t in range(timeout):\n",
    "            # Query agent for action\n",
    "            action = agent.act(state, eps)\n",
    "            # Get feedback from environment\n",
    "            next_state, reward, done, _ = env.step(action.item())                  # send the action to the environment\n",
    "            \n",
    "            # Move the agent a step\n",
    "            agent.step(state, action, reward, next_state, done)\n",
    "\n",
    "            score += reward                                    # update the score\n",
    "            state = next_state                                 # roll over the state to next time step\n",
    "            if done:                                           # exit loop if episode finished\n",
    "                break\n",
    "        \n",
    "        # Cache the scores and decay epsilon\n",
    "        scores.append(score)\n",
    "        scores_window.append(score)\n",
    "        eps = max(eps_end, eps_decay*eps) # decrease epsilon\n",
    "\n",
    "        # Print episode results\n",
    "        print('\\rEpisode {}\\tAverage Score: {:.2f}'.format(episode, np.mean(scores_window)), end=\"\")\n",
    "\n",
    "        # Print if solution score achieved\n",
    "        if np.mean(scores_window)>=solution_score:\n",
    "            print('\\nEnvironment solved in {:d} episodes!\\tAverage Score: {:.2f}'.format(episode-100, np.mean(scores_window)))\n",
    "            torch.save(agent.qnetwork_local.state_dict(), 'checkpoint.pth')\n",
    "            break\n",
    "    \n",
    "    print(\"\\nTraining Completed!\")\n",
    "    return scores"
   ]
  },
  {
   "cell_type": "code",
   "execution_count": 30,
   "metadata": {},
   "outputs": [],
   "source": [
    "def testAgent(pretrainedWeightsFile='checkpoint.pth'):\n",
    "    print(\"Testing the Agent\")\n",
    "    agent = Agent(state_size, action_size, 0, pretrainedWeightsFile, train = False)\n",
    "    state = env.reset()            # get the current state\n",
    "    score = 0                                          # initialize the score\n",
    "    while True:\n",
    "        env.render()\n",
    "        action = agent.act(state)                    # select an action\n",
    "        next_state, reward, done, _ = env.step(action.item())           # send the action to the environment\n",
    "        score += reward                                # update the score\n",
    "        state = next_state                             # roll over the state to next time step\n",
    "        if done:                                       # exit loop if episode finished\n",
    "            break\n",
    "    print(\"Score: {}\".format(score))\n",
    "    env.close()\n",
    "    return score"
   ]
  },
  {
   "cell_type": "code",
   "execution_count": 28,
   "metadata": {},
   "outputs": [],
   "source": [
    "def plotScores(scores):\n",
    "    # plot the scores\n",
    "    fig = plt.figure()\n",
    "    ax = fig.add_subplot(111)\n",
    "    plt.plot(np.arange(len(scores)), scores)\n",
    "    plt.ylabel('Score')\n",
    "    plt.xlabel('Episode #')\n",
    "    plt.show()"
   ]
  },
  {
   "cell_type": "code",
   "execution_count": 13,
   "metadata": {},
   "outputs": [
    {
     "name": "stdout",
     "output_type": "stream",
     "text": [
      "\n",
      "Training agent \n",
      "Episode 1399\tAverage Score: 195.00\n",
      "Environment solved in 1299 episodes!\tAverage Score: 195.00\n",
      "\n",
      "Training Completed!\n"
     ]
    },
    {
     "data": {
      "image/png": "[encoded data removed]",
      "text/plain": [
       "<Figure size 432x288 with 1 Axes>"
      ]
     },
     "metadata": {},
     "output_type": "display_data"
    }
   ],
   "source": [
    "agent = Agent(state_size=state_size, action_size=action_size, seed=0)\n",
    "scores = trainAgent (agent)\n",
    "plotScores(scores)"
   ]
  },
  {
   "cell_type": "code",
   "execution_count": 35,
   "metadata": {},
   "outputs": [
    {
     "name": "stdout",
     "output_type": "stream",
     "text": [
      "Testing the Agent\n",
      "Score: 200.0\n"
     ]
    },
    {
     "data": {
      "text/plain": [
       "200.0"
      ]
     },
     "execution_count": 35,
     "metadata": {},
     "output_type": "execute_result"
    }
   ],
   "source": [
    "testAgent(pretrainedWeightsFile='cartpole-checkpoint.pth')"
   ]
  },
  {
   "cell_type": "code",
   "execution_count": null,
   "metadata": {},
   "outputs": [],
   "source": []
  }
 ],
 "metadata": {
  "kernelspec": {
   "display_name": "Python 3",
   "language": "python",
   "name": "python3"
  },
  "language_info": {
   "codemirror_mode": {
    "name": "ipython",
    "version": 3
   },
   "file_extension": ".py",
   "mimetype": "text/x-python",
   "name": "python",
   "nbconvert_exporter": "python",
   "pygments_lexer": "ipython3",
   "version": "3.7.1"
  }
 },
 "nbformat": 4,
 "nbformat_minor": 1
}
